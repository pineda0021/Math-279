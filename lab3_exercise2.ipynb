{
 "cells": [
  {
   "cell_type": "markdown",
   "metadata": {
    "toc": true
   },
   "source": [
    "<h1>Table of Contents<span class=\"tocSkip\"></span></h1>\n",
    "<div class=\"toc\"><ul class=\"toc-item\"><li><span><a href=\"#ICS-6N-Lab-2---Python\" data-toc-modified-id=\"ICS-6N-Lab-2---Python-1\"><span class=\"toc-item-num\">1&nbsp;&nbsp;</span>ICS 6N Lab 3 - Python</a></span><ul class=\"toc-item\"><li><span><a href=\"#What-to-hand-in\" data-toc-modified-id=\"What-to-hand-in-1.1\"><span class=\"toc-item-num\">1.1&nbsp;&nbsp;</span>What to hand in</a></span></li><li><span><a href=\"#Exercise-2\" data-toc-modified-id=\"Exercise-2-1.2\"><span class=\"toc-item-num\">1.2&nbsp;&nbsp;</span>Exercise 2</a></span></li></ul></li></ul></div>"
   ]
  },
  {
   "cell_type": "markdown",
   "metadata": {},
   "source": [
    "# ICS 6N Lab 3 - Python\n",
    "Student Name:   \n",
    "Student ID:   "
   ]
  },
  {
   "cell_type": "markdown",
   "metadata": {},
   "source": [
    "## What to hand in\n",
    "Go to File on the top left corner of Jupyter Notebook, and hover over the Download As... option. Download this completed lab as a .py file, and submit it to Gradescope. Make sure the .py file is named lab3_exercise2.py"
   ]
  },
  {
   "cell_type": "code",
   "execution_count": null,
   "metadata": {},
   "outputs": [],
   "source": [
    "import numpy as np"
   ]
  },
  {
   "cell_type": "markdown",
   "metadata": {},
   "source": [
    "___\n",
    "## Exercise 2\n",
    "Consider the following system of equations:\n",
    "\n",
    "$-2x_{1} + 16x_{2} = 0$  \n",
    "$x_{1} - 8x_{2} = 0$\n",
    "\n",
    "As you did in the previous exercise, enter the corresponding matrix E and the column vector f into\n",
    "Python. Then type in  \n",
    "\n",
    "`z2 = np.linalg.solve(E, f)`  \n",
    "\n",
    "Note the strange output. Why is this so? Now go ahead and solve this system by hand. How\n",
    "many free variables do you need to write down the solution? Based on your answer, can you explain why you got the error message when trying to use the \"z2 = np.linalg.solve(E, f)\" command?"
   ]
  },
  {
   "cell_type": "code",
   "execution_count": 3,
   "metadata": {},
   "outputs": [],
   "source": [
    "E = None\n",
    "f = None"
   ]
  },
  {
   "cell_type": "code",
   "execution_count": 6,
   "metadata": {},
   "outputs": [],
   "source": [
    "err = None  # Leave this alone.\n",
    "try:  # This try-except statement is to stop Python from crashing.\n",
    "    z2 = None  # Solve for z2 here.\n",
    "except Exception as err_var:\n",
    "    err = err_var  # Output any errors"
   ]
  },
  {
   "cell_type": "code",
   "execution_count": 7,
   "metadata": {},
   "outputs": [],
   "source": [
    "err"
   ]
  }
 ],
 "metadata": {
  "kernelspec": {
   "display_name": "Python 3",
   "language": "python",
   "name": "python3"
  },
  "language_info": {
   "codemirror_mode": {
    "name": "ipython",
    "version": 3
   },
   "file_extension": ".py",
   "mimetype": "text/x-python",
   "name": "python",
   "nbconvert_exporter": "python",
   "pygments_lexer": "ipython3",
   "version": "3.8.3"
  },
  "toc": {
   "base_numbering": 1,
   "nav_menu": {},
   "number_sections": true,
   "sideBar": false,
   "skip_h1_title": false,
   "title_cell": "Table of Contents",
   "title_sidebar": "Contents",
   "toc_cell": true,
   "toc_position": {
    "height": "663.75px",
    "left": "10px",
    "top": "150px",
    "width": "165px"
   },
   "toc_section_display": true,
   "toc_window_display": true
  },
  "varInspector": {
   "cols": {
    "lenName": 16,
    "lenType": 16,
    "lenVar": 40
   },
   "kernels_config": {
    "python": {
     "delete_cmd_postfix": "",
     "delete_cmd_prefix": "del ",
     "library": "var_list.py",
     "varRefreshCmd": "print(var_dic_list())"
    },
    "r": {
     "delete_cmd_postfix": ") ",
     "delete_cmd_prefix": "rm(",
     "library": "var_list.r",
     "varRefreshCmd": "cat(var_dic_list()) "
    }
   },
   "types_to_exclude": [
    "module",
    "function",
    "builtin_function_or_method",
    "instance",
    "_Feature"
   ],
   "window_display": false
  }
 },
 "nbformat": 4,
 "nbformat_minor": 2
}
